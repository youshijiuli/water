{
 "cells": [
  {
   "cell_type": "markdown",
   "metadata": {},
   "source": [
    "## 第一课-构建线性回归模型-理解Loss函数-理解梯度下降"
   ]
  },
  {
   "cell_type": "code",
   "execution_count": 1,
   "metadata": {},
   "outputs": [
    {
     "ename": "ImportError",
     "evalue": "\n`load_boston` has been removed from scikit-learn since version 1.2.\n\nThe Boston housing prices dataset has an ethical problem: as\ninvestigated in [1], the authors of this dataset engineered a\nnon-invertible variable \"B\" assuming that racial self-segregation had a\npositive impact on house prices [2]. Furthermore the goal of the\nresearch that led to the creation of this dataset was to study the\nimpact of air quality but it did not give adequate demonstration of the\nvalidity of this assumption.\n\nThe scikit-learn maintainers therefore strongly discourage the use of\nthis dataset unless the purpose of the code is to study and educate\nabout ethical issues in data science and machine learning.\n\nIn this special case, you can fetch the dataset from the original\nsource::\n\n    import pandas as pd\n    import numpy as np\n\n    data_url = \"http://lib.stat.cmu.edu/datasets/boston\"\n    raw_df = pd.read_csv(data_url, sep=\"\\s+\", skiprows=22, header=None)\n    data = np.hstack([raw_df.values[::2, :], raw_df.values[1::2, :2]])\n    target = raw_df.values[1::2, 2]\n\nAlternative datasets include the California housing dataset and the\nAmes housing dataset. You can load the datasets as follows::\n\n    from sklearn.datasets import fetch_california_housing\n    housing = fetch_california_housing()\n\nfor the California housing dataset and::\n\n    from sklearn.datasets import fetch_openml\n    housing = fetch_openml(name=\"house_prices\", as_frame=True)\n\nfor the Ames housing dataset.\n\n[1] M Carlisle.\n\"Racist data destruction?\"\n<https://medium.com/@docintangible/racist-data-destruction-113e3eff54a8>\n\n[2] Harrison Jr, David, and Daniel L. Rubinfeld.\n\"Hedonic housing prices and the demand for clean air.\"\nJournal of environmental economics and management 5.1 (1978): 81-102.\n<https://www.researchgate.net/publication/4974606_Hedonic_housing_prices_and_the_demand_for_clean_air>\n",
     "output_type": "error",
     "traceback": [
      "\u001b[1;31m---------------------------------------------------------------------------\u001b[0m",
      "\u001b[1;31mImportError\u001b[0m                               Traceback (most recent call last)",
      "\u001b[1;32mc:\\Users\\hechang\\Desktop\\watermelon\\2020-神经网络框架原理训练营资料【海量资 源：666java.com】\\Lecture-01-构建线性回归-理解Loss函数-梯度下降.ipynb Cell 2\u001b[0m line \u001b[0;36m1\n\u001b[1;32m----> <a href='vscode-notebook-cell:/c%3A/Users/hechang/Desktop/watermelon/2020-%E7%A5%9E%E7%BB%8F%E7%BD%91%E7%BB%9C%E6%A1%86%E6%9E%B6%E5%8E%9F%E7%90%86%E8%AE%AD%E7%BB%83%E8%90%A5%E8%B5%84%E6%96%99%E3%80%90%E6%B5%B7%E9%87%8F%E8%B5%84%20%E6%BA%90%EF%BC%9A666java.com%E3%80%91/Lecture-01-%E6%9E%84%E5%BB%BA%E7%BA%BF%E6%80%A7%E5%9B%9E%E5%BD%92-%E7%90%86%E8%A7%A3Loss%E5%87%BD%E6%95%B0-%E6%A2%AF%E5%BA%A6%E4%B8%8B%E9%99%8D.ipynb#W1sZmlsZQ%3D%3D?line=0'>1</a>\u001b[0m \u001b[39mfrom\u001b[39;00m \u001b[39msklearn\u001b[39;00m\u001b[39m.\u001b[39;00m\u001b[39mdatasets\u001b[39;00m \u001b[39mimport\u001b[39;00m load_boston\n",
      "File \u001b[1;32md:\\myana\\envs\\deep\\Lib\\site-packages\\sklearn\\datasets\\__init__.py:156\u001b[0m, in \u001b[0;36m__getattr__\u001b[1;34m(name)\u001b[0m\n\u001b[0;32m    105\u001b[0m \u001b[39mif\u001b[39;00m name \u001b[39m==\u001b[39m \u001b[39m\"\u001b[39m\u001b[39mload_boston\u001b[39m\u001b[39m\"\u001b[39m:\n\u001b[0;32m    106\u001b[0m     msg \u001b[39m=\u001b[39m textwrap\u001b[39m.\u001b[39mdedent(\n\u001b[0;32m    107\u001b[0m \u001b[39m        \u001b[39m\u001b[39m\"\"\"\u001b[39;00m\n\u001b[0;32m    108\u001b[0m \u001b[39m        `load_boston` has been removed from scikit-learn since version 1.2.\u001b[39;00m\n\u001b[1;32m   (...)\u001b[0m\n\u001b[0;32m    154\u001b[0m \u001b[39m        \"\"\"\u001b[39;00m\n\u001b[0;32m    155\u001b[0m     )\n\u001b[1;32m--> 156\u001b[0m     \u001b[39mraise\u001b[39;00m \u001b[39mImportError\u001b[39;00m(msg)\n\u001b[0;32m    157\u001b[0m \u001b[39mtry\u001b[39;00m:\n\u001b[0;32m    158\u001b[0m     \u001b[39mreturn\u001b[39;00m \u001b[39mglobals\u001b[39m()[name]\n",
      "\u001b[1;31mImportError\u001b[0m: \n`load_boston` has been removed from scikit-learn since version 1.2.\n\nThe Boston housing prices dataset has an ethical problem: as\ninvestigated in [1], the authors of this dataset engineered a\nnon-invertible variable \"B\" assuming that racial self-segregation had a\npositive impact on house prices [2]. Furthermore the goal of the\nresearch that led to the creation of this dataset was to study the\nimpact of air quality but it did not give adequate demonstration of the\nvalidity of this assumption.\n\nThe scikit-learn maintainers therefore strongly discourage the use of\nthis dataset unless the purpose of the code is to study and educate\nabout ethical issues in data science and machine learning.\n\nIn this special case, you can fetch the dataset from the original\nsource::\n\n    import pandas as pd\n    import numpy as np\n\n    data_url = \"http://lib.stat.cmu.edu/datasets/boston\"\n    raw_df = pd.read_csv(data_url, sep=\"\\s+\", skiprows=22, header=None)\n    data = np.hstack([raw_df.values[::2, :], raw_df.values[1::2, :2]])\n    target = raw_df.values[1::2, 2]\n\nAlternative datasets include the California housing dataset and the\nAmes housing dataset. You can load the datasets as follows::\n\n    from sklearn.datasets import fetch_california_housing\n    housing = fetch_california_housing()\n\nfor the California housing dataset and::\n\n    from sklearn.datasets import fetch_openml\n    housing = fetch_openml(name=\"house_prices\", as_frame=True)\n\nfor the Ames housing dataset.\n\n[1] M Carlisle.\n\"Racist data destruction?\"\n<https://medium.com/@docintangible/racist-data-destruction-113e3eff54a8>\n\n[2] Harrison Jr, David, and Daniel L. Rubinfeld.\n\"Hedonic housing prices and the demand for clean air.\"\nJournal of environmental economics and management 5.1 (1978): 81-102.\n<https://www.researchgate.net/publication/4974606_Hedonic_housing_prices_and_the_demand_for_clean_air>\n"
     ]
    }
   ],
   "source": [
    "from sklearn.datasets import load_boston"
   ]
  },
  {
   "cell_type": "code",
   "execution_count": 2,
   "metadata": {},
   "outputs": [],
   "source": [
    "data = load_boston()"
   ]
  },
  {
   "cell_type": "code",
   "execution_count": 38,
   "metadata": {},
   "outputs": [],
   "source": [
    "X, y = data['data'], data['target']"
   ]
  },
  {
   "cell_type": "code",
   "execution_count": 4,
   "metadata": {},
   "outputs": [
    {
     "data": {
      "text/plain": [
       "array([2.7310e-02, 0.0000e+00, 7.0700e+00, 0.0000e+00, 4.6900e-01,\n",
       "       6.4210e+00, 7.8900e+01, 4.9671e+00, 2.0000e+00, 2.4200e+02,\n",
       "       1.7800e+01, 3.9690e+02, 9.1400e+00])"
      ]
     },
     "execution_count": 4,
     "metadata": {},
     "output_type": "execute_result"
    }
   ],
   "source": [
    "X[1]"
   ]
  },
  {
   "cell_type": "code",
   "execution_count": 5,
   "metadata": {},
   "outputs": [
    {
     "data": {
      "text/plain": [
       "21.6"
      ]
     },
     "execution_count": 5,
     "metadata": {},
     "output_type": "execute_result"
    }
   ],
   "source": [
    "y[1]"
   ]
  },
  {
   "cell_type": "code",
   "execution_count": 6,
   "metadata": {},
   "outputs": [
    {
     "data": {
      "text/plain": [
       "506"
      ]
     },
     "execution_count": 6,
     "metadata": {},
     "output_type": "execute_result"
    }
   ],
   "source": [
    "len(X[:, 0])"
   ]
  },
  {
   "cell_type": "code",
   "execution_count": 7,
   "metadata": {},
   "outputs": [
    {
     "data": {
      "text/plain": [
       "506"
      ]
     },
     "execution_count": 7,
     "metadata": {},
     "output_type": "execute_result"
    }
   ],
   "source": [
    "len(y)"
   ]
  },
  {
   "cell_type": "code",
   "execution_count": 8,
   "metadata": {},
   "outputs": [],
   "source": [
    "%matplotlib inline"
   ]
  },
  {
   "cell_type": "code",
   "execution_count": 9,
   "metadata": {},
   "outputs": [],
   "source": [
    "import matplotlib.pyplot as plt"
   ]
  },
  {
   "cell_type": "code",
   "execution_count": 10,
   "metadata": {},
   "outputs": [],
   "source": [
    "def draw_rm_and_price():\n",
    "    plt.scatter(X[:, 5], y)"
   ]
  },
  {
   "cell_type": "code",
   "execution_count": 11,
   "metadata": {},
   "outputs": [
    {
     "data": {
      "image/png": "[encoded data removed]",
      "text/plain": [
       "<Figure size 432x288 with 1 Axes>"
      ]
     },
     "metadata": {
      "needs_background": "light"
     },
     "output_type": "display_data"
    }
   ],
   "source": [
    "draw_rm_and_price()"
   ]
  },
  {
   "cell_type": "code",
   "execution_count": 12,
   "metadata": {},
   "outputs": [],
   "source": [
    "import random"
   ]
  },
  {
   "cell_type": "code",
   "execution_count": 13,
   "metadata": {},
   "outputs": [],
   "source": [
    "def price(rm, k, b):\n",
    "    \"\"\"f(x) = k * x + b\"\"\"\n",
    "    return k * rm + b  "
   ]
  },
  {
   "cell_type": "code",
   "execution_count": 14,
   "metadata": {},
   "outputs": [],
   "source": [
    "from IPython import display"
   ]
  },
  {
   "cell_type": "code",
   "execution_count": 19,
   "metadata": {},
   "outputs": [
    {
     "data": {
      "text/plain": [
       "<matplotlib.collections.PathCollection at 0x1a24585e10>"
      ]
     },
     "execution_count": 19,
     "metadata": {},
     "output_type": "execute_result"
    },
    {
     "data": {
      "image/png": "[encoded data removed]",
      "text/plain": [
       "<Figure size 432x288 with 1 Axes>"
      ]
     },
     "metadata": {
      "needs_background": "light"
     },
     "output_type": "display_data"
    }
   ],
   "source": [
    "X_rm = X[:, 5]\n",
    "k = random.randint(-100, 100)\n",
    "b = random.randint(-100, 100)\n",
    "price_by_random_k_and_b = [price(r, k, b) for r in X_rm]\n",
    "plt.scatter(X[:, 5], y)\n",
    "plt.scatter(X_rm, price_by_random_k_and_b)"
   ]
  },
  {
   "cell_type": "markdown",
   "metadata": {},
   "source": [
    "$$ \\hat{y} $$"
   ]
  },
  {
   "cell_type": "code",
   "execution_count": 21,
   "metadata": {},
   "outputs": [
    {
     "data": {
      "text/plain": [
       "[2, 2, 2]"
      ]
     },
     "execution_count": 21,
     "metadata": {},
     "output_type": "execute_result"
    }
   ],
   "source": [
    "[1, 1, 1]\n",
    "[2, 2, 2]"
   ]
  },
  {
   "cell_type": "markdown",
   "metadata": {},
   "source": [
    "## 如何衡量每条直线的到底好不好呢？"
   ]
  },
  {
   "cell_type": "markdown",
   "metadata": {},
   "source": [
    "## loss\n",
    "\n",
    "$$ loss = \\frac{1}{n} \\sum{(y_i - \\hat{y_i})}^2$$"
   ]
  },
  {
   "cell_type": "markdown",
   "metadata": {},
   "source": [
    "$$ loss = \\frac{1}{n} \\sum{(y_i - (kx_i + b_i))}^2 $$"
   ]
  },
  {
   "cell_type": "markdown",
   "metadata": {},
   "source": [
    "$$ \\frac{\\partial{loss}}{\\partial{k}} = -\\frac{2}{n}\\sum(y_i - (kx_i + b_i))x_i$$"
   ]
  },
  {
   "cell_type": "markdown",
   "metadata": {},
   "source": [
    "$$ \\frac{\\partial{loss}}{\\partial{k}} = -\\frac{2}{n}\\sum(y_i - \\hat{y_i})x_i$$"
   ]
  },
  {
   "cell_type": "markdown",
   "metadata": {},
   "source": [
    "$$ \\frac{\\partial{loss}}{\\partial{b}} = -\\frac{2}{n}\\sum(y_i - \\hat{y_i})$$"
   ]
  },
  {
   "cell_type": "code",
   "execution_count": 22,
   "metadata": {},
   "outputs": [],
   "source": [
    "def loss(y, y_hat): # to evaluate the performance \n",
    "    return sum((y_i - y_hat_i)**2 for y_i, y_hat_i in zip(list(y), list(y_hat))) / len(list(y))"
   ]
  },
  {
   "cell_type": "markdown",
   "metadata": {},
   "source": [
    "## First-Method: Random generation: get best k and best b"
   ]
  },
  {
   "cell_type": "code",
   "execution_count": 23,
   "metadata": {},
   "outputs": [
    {
     "name": "stdout",
     "output_type": "stream",
     "text": [
      "When time is : 0, get best_k: -89.09769113301729 best_b: -26.437897958797834, and the loss is: 375574.8157891617\n",
      "When time is : 1, get best_k: -26.152135046872445 best_b: 5.979936505535235, and the loss is: 33384.191458241025\n",
      "When time is : 10, get best_k: -27.440412009309426 best_b: 67.55268719722017, and the loss is: 16940.712856096525\n",
      "When time is : 11, get best_k: 6.418730914921795 best_b: 44.566133772893494, and the loss is: 3937.502476599518\n",
      "When time is : 23, get best_k: -10.373437070027308 best_b: 77.59231769860136, and the loss is: 333.17116446525944\n",
      "When time is : 105, get best_k: 13.952288163631337 best_b: -54.059406068376404, and the loss is: 178.24143327481733\n",
      "When time is : 290, get best_k: 12.39425058975175 best_b: -57.081170707421826, and the loss is: 51.90109356861186\n",
      "When time is : 755, get best_k: 8.980168568941039 best_b: -33.74070528176205, and the loss is: 43.63463125904183\n"
     ]
    }
   ],
   "source": [
    "trying_times = 2000\n",
    "\n",
    "min_loss = float('inf')\n",
    "best_k, best_b = None, None\n",
    "\n",
    "for i in range(trying_times):\n",
    "    k = random.random() * 200 - 100\n",
    "    b = random.random() * 200 - 100\n",
    "    price_by_random_k_and_b = [price(r, k, b) for r in X_rm]\n",
    "\n",
    "    current_loss = loss(y, price_by_random_k_and_b)\n",
    "    \n",
    "    if current_loss < min_loss:\n",
    "        min_loss = current_loss\n",
    "        best_k, best_b = k, b\n",
    "        print('When time is : {}, get best_k: {} best_b: {}, and the loss is: {}'.format(i, best_k, best_b, min_loss))"
   ]
  },
  {
   "cell_type": "code",
   "execution_count": 24,
   "metadata": {},
   "outputs": [
    {
     "data": {
      "text/plain": [
       "3.1622776601683795"
      ]
     },
     "execution_count": 24,
     "metadata": {},
     "output_type": "execute_result"
    }
   ],
   "source": [
    "10 ** 0.5"
   ]
  },
  {
   "cell_type": "code",
   "execution_count": 25,
   "metadata": {},
   "outputs": [
    {
     "data": {
      "text/plain": [
       "<matplotlib.collections.PathCollection at 0x1a24782438>"
      ]
     },
     "execution_count": 25,
     "metadata": {},
     "output_type": "execute_result"
    },
    {
     "data": {
      "image/png": "[encoded data removed]",
      "text/plain": [
       "<Figure size 432x288 with 1 Axes>"
      ]
     },
     "metadata": {
      "needs_background": "light"
     },
     "output_type": "display_data"
    }
   ],
   "source": [
    "X_rm = X[:, 5]\n",
    "k = 15\n",
    "b = -68\n",
    "price_by_random_k_and_b = [price(r, k, b) for r in X_rm]\n",
    "\n",
    "draw_rm_and_price()\n",
    "plt.scatter(X_rm, price_by_random_k_and_b)"
   ]
  },
  {
   "cell_type": "markdown",
   "metadata": {},
   "source": [
    "## 2nd-Method: Direction Adjusting"
   ]
  },
  {
   "cell_type": "code",
   "execution_count": 26,
   "metadata": {},
   "outputs": [
    {
     "name": "stdout",
     "output_type": "stream",
     "text": [
      "When time is : 14, get best_k: -67.61228290571975 best_b: 69.97465615518044, and the loss is: 145431.7650767233\n",
      "When time is : 24, get best_k: -66.61228290571981 best_b: 70.97465615518038, and the loss is: 139910.17158807087\n",
      "When time is : 34, get best_k: -65.61228290571987 best_b: 71.97465615518033, and the loss is: 134495.69528616557\n",
      "When time is : 44, get best_k: -64.61228290571992 best_b: 72.97465615518027, and the loss is: 129188.33617100731\n",
      "When time is : 54, get best_k: -63.61228290571995 best_b: 73.97465615518021, and the loss is: 123988.09424259608\n",
      "When time is : 64, get best_k: -62.61228290571994 best_b: 74.97465615518016, and the loss is: 118894.9695009316\n",
      "When time is : 74, get best_k: -61.61228290571992 best_b: 75.9746561551801, and the loss is: 113908.96194601398\n",
      "When time is : 84, get best_k: -60.61228290571991 best_b: 76.97465615518004, and the loss is: 109030.07157784358\n",
      "When time is : 94, get best_k: -59.612282905719894 best_b: 77.97465615517999, and the loss is: 104258.29839642027\n",
      "When time is : 104, get best_k: -58.61228290571988 best_b: 78.97465615517993, and the loss is: 99593.64240174377\n",
      "When time is : 114, get best_k: -57.612282905719866 best_b: 79.97465615517987, and the loss is: 95036.10359381452\n",
      "When time is : 124, get best_k: -56.61228290571985 best_b: 80.97465615517982, and the loss is: 90585.6819726322\n",
      "When time is : 134, get best_k: -55.61228290571984 best_b: 81.97465615517976, and the loss is: 86242.37753819699\n",
      "When time is : 144, get best_k: -54.61228290571982 best_b: 82.9746561551797, and the loss is: 82006.19029050872\n",
      "When time is : 154, get best_k: -53.61228290571981 best_b: 83.97465615517964, and the loss is: 77877.1202295676\n",
      "When time is : 164, get best_k: -52.612282905719795 best_b: 84.97465615517959, and the loss is: 73855.16735537343\n",
      "When time is : 174, get best_k: -51.61228290571978 best_b: 85.97465615517953, and the loss is: 69940.33166792644\n",
      "When time is : 184, get best_k: -50.612282905719766 best_b: 86.97465615517947, and the loss is: 66132.61316722631\n",
      "When time is : 194, get best_k: -49.61228290571975 best_b: 87.97465615517942, and the loss is: 62432.011853273274\n",
      "When time is : 204, get best_k: -48.61228290571974 best_b: 88.97465615517936, and the loss is: 58838.527726067245\n",
      "When time is : 214, get best_k: -47.612282905719724 best_b: 89.9746561551793, and the loss is: 55352.16078560832\n",
      "When time is : 224, get best_k: -46.61228290571971 best_b: 90.97465615517925, and the loss is: 51972.91103189636\n",
      "When time is : 234, get best_k: -45.612282905719695 best_b: 91.97465615517919, and the loss is: 48700.77846493152\n",
      "When time is : 244, get best_k: -44.61228290571968 best_b: 92.97465615517913, and the loss is: 45535.763084713726\n",
      "When time is : 254, get best_k: -43.61228290571967 best_b: 93.97465615517908, and the loss is: 42477.864891242854\n",
      "When time is : 264, get best_k: -42.61228290571965 best_b: 94.97465615517902, and the loss is: 39527.08388451911\n",
      "When time is : 274, get best_k: -41.61228290571964 best_b: 95.97465615517896, and the loss is: 36683.42006454239\n",
      "When time is : 284, get best_k: -40.612282905719624 best_b: 96.9746561551789, and the loss is: 33946.873431312706\n",
      "When time is : 294, get best_k: -39.61228290571961 best_b: 97.97465615517885, and the loss is: 31317.443984830017\n",
      "When time is : 304, get best_k: -38.612282905719596 best_b: 98.97465615517879, and the loss is: 28795.131725094416\n",
      "When time is : 314, get best_k: -37.61228290571958 best_b: 99.97465615517874, and the loss is: 26379.936652105825\n",
      "When time is : 324, get best_k: -36.61228290571957 best_b: 100.97465615517868, and the loss is: 24071.85876586422\n",
      "When time is : 334, get best_k: -35.61228290571955 best_b: 101.97465615517862, and the loss is: 21870.898066369755\n",
      "When time is : 344, get best_k: -34.61228290571954 best_b: 102.97465615517856, and the loss is: 19777.05455362226\n",
      "When time is : 354, get best_k: -33.612282905719525 best_b: 103.97465615517851, and the loss is: 17790.328227621845\n",
      "When time is : 364, get best_k: -32.61228290571951 best_b: 104.97465615517845, and the loss is: 15910.719088368427\n",
      "When time is : 374, get best_k: -31.612282905719496 best_b: 105.9746561551784, and the loss is: 14138.22713586205\n",
      "When time is : 384, get best_k: -30.612282905719482 best_b: 106.97465615517834, and the loss is: 12472.852370102737\n",
      "When time is : 394, get best_k: -29.612282905719468 best_b: 107.97465615517828, and the loss is: 10914.594791090414\n",
      "When time is : 404, get best_k: -28.612282905719454 best_b: 108.97465615517822, and the loss is: 9463.454398825172\n",
      "When time is : 414, get best_k: -27.61228290571944 best_b: 109.97465615517817, and the loss is: 8119.431193306949\n",
      "When time is : 424, get best_k: -26.612282905719425 best_b: 110.97465615517811, and the loss is: 6882.525174535766\n",
      "When time is : 434, get best_k: -25.61228290571941 best_b: 111.97465615517805, and the loss is: 5752.7363425116155\n",
      "When time is : 444, get best_k: -24.612282905719397 best_b: 112.974656155178, and the loss is: 4730.064697234502\n",
      "When time is : 454, get best_k: -23.612282905719383 best_b: 113.97465615517794, and the loss is: 3814.5102387044253\n",
      "When time is : 464, get best_k: -22.61228290571937 best_b: 114.97465615517788, and the loss is: 3006.0729669213847\n",
      "When time is : 474, get best_k: -21.612282905719354 best_b: 115.97465615517783, and the loss is: 2304.7528818853857\n",
      "When time is : 484, get best_k: -20.61228290571934 best_b: 116.97465615517777, and the loss is: 1710.54998359642\n",
      "When time is : 494, get best_k: -19.612282905719326 best_b: 117.97465615517771, and the loss is: 1223.4642720544903\n",
      "When time is : 504, get best_k: -18.61228290571931 best_b: 118.97465615517766, and the loss is: 843.4957472595966\n",
      "When time is : 514, get best_k: -17.612282905719297 best_b: 119.9746561551776, and the loss is: 570.6444092117398\n",
      "When time is : 524, get best_k: -16.612282905719283 best_b: 120.97465615517754, and the loss is: 404.91025791092056\n",
      "When time is : 534, get best_k: -15.612282905719276 best_b: 121.97465615517748, and the loss is: 346.293293357137\n",
      "When time is : 564, get best_k: -15.412282905719277 best_b: 120.97465615517754, and the loss is: 342.18887478997044\n",
      "When time is : 610, get best_k: -15.212282905719277 best_b: 119.9746561551776, and the loss is: 338.255894680827\n",
      "When time is : 646, get best_k: -15.012282905719278 best_b: 118.97465615517766, and the loss is: 334.49435302970744\n",
      "When time is : 683, get best_k: -14.812282905719279 best_b: 117.97465615517771, and the loss is: 330.904249836612\n",
      "When time is : 733, get best_k: -14.812282905719279 best_b: 116.97465615517777, and the loss is: 327.20011518341056\n",
      "When time is : 768, get best_k: -14.61228290571928 best_b: 115.97465615517783, and the loss is: 323.2675966933981\n"
     ]
    }
   ],
   "source": [
    "trying_times = 2000\n",
    "\n",
    "min_loss = float('inf')\n",
    "\n",
    "best_k = random.random() * 200 - 100\n",
    "best_b = random.random() * 200 - 100\n",
    "\n",
    "direction = [\n",
    "    (+1, -1),  # first element: k's change direction, second element: b's change direction\n",
    "    (+1, +1), \n",
    "    (-1, -1), \n",
    "    (-1, +1),\n",
    "]\n",
    "\n",
    "next_direction = random.choice(direction)\n",
    "\n",
    "scalar = 0.1\n",
    "\n",
    "update_time = 0\n",
    "\n",
    "for i in range(trying_times):\n",
    "    \n",
    "    k_direction, b_direction = next_direction\n",
    "    \n",
    "    current_k, current_b = best_k + k_direction * scalar, best_b + b_direction * scalar\n",
    "    \n",
    "    price_by_k_and_b = [price(r, current_k, current_b) for r in X_rm]\n",
    "\n",
    "    current_loss = loss(y, price_by_k_and_b)\n",
    "    \n",
    "    if current_loss < min_loss: # performance became better\n",
    "        min_loss = current_loss\n",
    "        best_k, best_b = current_k, current_b\n",
    "        \n",
    "        next_direction = next_direction\n",
    "        update_time += 1\n",
    "        \n",
    "        if update_time % 10 == 0: \n",
    "            print('When time is : {}, get best_k: {} best_b: {}, and the loss is: {}'.format(i, best_k, best_b, min_loss))\n",
    "    else:\n",
    "        next_direction = random.choice(direction)"
   ]
  },
  {
   "cell_type": "markdown",
   "metadata": {},
   "source": [
    "如果我们想得到更快的更新，在更短的时间内获得更好的结果，我们需要一件事情：\n",
    "\n",
    "#### 找对改变的方向\n",
    "\n",
    "#### 如何找对改变的方向呢？ \n",
    "\n",
    "#### 2nd-method: 监督让他变化--> 监督学习"
   ]
  },
  {
   "cell_type": "markdown",
   "metadata": {},
   "source": [
    "## 导数"
   ]
  },
  {
   "cell_type": "code",
   "execution_count": 27,
   "metadata": {},
   "outputs": [],
   "source": [
    "def partial_k(x, y, y_hat):\n",
    "    n = len(y)\n",
    "\n",
    "    gradient = 0\n",
    "    \n",
    "    for x_i, y_i, y_hat_i in zip(list(x), list(y), list(y_hat)):\n",
    "        gradient += (y_i - y_hat_i) * x_i\n",
    "    \n",
    "    return -2 / n * gradient\n",
    "\n",
    "\n",
    "def partial_b(x, y, y_hat):\n",
    "    n = len(y)\n",
    "\n",
    "    gradient = 0\n",
    "    \n",
    "    for y_i, y_hat_i in zip(list(y), list(y_hat)):\n",
    "        gradient += (y_i - y_hat_i)\n",
    "    \n",
    "    return -2 / n * gradient"
   ]
  },
  {
   "cell_type": "code",
   "execution_count": 28,
   "metadata": {},
   "outputs": [],
   "source": [
    "from icecream import ic"
   ]
  },
  {
   "cell_type": "code",
   "execution_count": 29,
   "metadata": {},
   "outputs": [
    {
     "name": "stdout",
     "output_type": "stream",
     "text": [
      "When time is : 0, get best_k: -14.51228290571928 best_b: 115.67465615517784, and the loss is: 171035.130195033\n",
      "When time is : 50, get best_k: -14.51228290571928 best_b: 115.67465615517784, and the loss is: 75163.97396109794\n",
      "When time is : 100, get best_k: -14.51228290571928 best_b: 115.67465615517784, and the loss is: 33062.50723407979\n",
      "When time is : 150, get best_k: -14.51228290571928 best_b: 115.67465615517784, and the loss is: 14573.798440317154\n",
      "When time is : 200, get best_k: -14.51228290571928 best_b: 115.67465615517784, and the loss is: 6454.543931672215\n",
      "When time is : 250, get best_k: -14.51228290571928 best_b: 115.67465615517784, and the loss is: 2888.9964697897917\n",
      "When time is : 300, get best_k: -14.51228290571928 best_b: 115.67465615517784, and the loss is: 1323.1924184743843\n",
      "When time is : 350, get best_k: -14.51228290571928 best_b: 115.67465615517784, and the loss is: 635.568204262482\n",
      "When time is : 400, get best_k: -14.51228290571928 best_b: 115.67465615517784, and the loss is: 333.59338095136866\n",
      "When time is : 450, get best_k: -14.51228290571928 best_b: 115.67465615517784, and the loss is: 200.97504622453118\n",
      "When time is : 500, get best_k: -14.51228290571928 best_b: 115.67465615517784, and the loss is: 142.72898143457803\n",
      "When time is : 550, get best_k: -14.51228290571928 best_b: 115.67465615517784, and the loss is: 117.14322240940685\n",
      "When time is : 600, get best_k: -14.51228290571928 best_b: 115.67465615517784, and the loss is: 105.90011617578111\n",
      "When time is : 650, get best_k: -14.51228290571928 best_b: 115.67465615517784, and the loss is: 100.95553397790205\n",
      "When time is : 700, get best_k: -14.51228290571928 best_b: 115.67465615517784, and the loss is: 98.77692677475977\n",
      "When time is : 750, get best_k: -14.51228290571928 best_b: 115.67465615517784, and the loss is: 97.81298887398461\n",
      "When time is : 800, get best_k: -14.51228290571928 best_b: 115.67465615517784, and the loss is: 97.38247018560928\n",
      "When time is : 850, get best_k: -14.51228290571928 best_b: 115.67465615517784, and the loss is: 97.18620228156304\n",
      "When time is : 900, get best_k: -14.51228290571928 best_b: 115.67465615517784, and the loss is: 97.0928064657811\n",
      "When time is : 950, get best_k: -14.51228290571928 best_b: 115.67465615517784, and the loss is: 97.04458827511245\n",
      "When time is : 1000, get best_k: -14.51228290571928 best_b: 115.67465615517784, and the loss is: 97.01621140154973\n",
      "When time is : 1050, get best_k: -14.51228290571928 best_b: 115.67465615517784, and the loss is: 96.99654949982794\n",
      "When time is : 1100, get best_k: -14.51228290571928 best_b: 115.67465615517784, and the loss is: 96.98071647664479\n",
      "When time is : 1150, get best_k: -14.51228290571928 best_b: 115.67465615517784, and the loss is: 96.96656662199442\n",
      "When time is : 1200, get best_k: -14.51228290571928 best_b: 115.67465615517784, and the loss is: 96.95315765494138\n",
      "When time is : 1250, get best_k: -14.51228290571928 best_b: 115.67465615517784, and the loss is: 96.94007577592292\n",
      "When time is : 1300, get best_k: -14.51228290571928 best_b: 115.67465615517784, and the loss is: 96.92713926599362\n",
      "When time is : 1350, get best_k: -14.51228290571928 best_b: 115.67465615517784, and the loss is: 96.91426832354286\n",
      "When time is : 1400, get best_k: -14.51228290571928 best_b: 115.67465615517784, and the loss is: 96.90142790357596\n",
      "When time is : 1450, get best_k: -14.51228290571928 best_b: 115.67465615517784, and the loss is: 96.8886026157991\n",
      "When time is : 1500, get best_k: -14.51228290571928 best_b: 115.67465615517784, and the loss is: 96.87578570120696\n",
      "When time is : 1550, get best_k: -14.51228290571928 best_b: 115.67465615517784, and the loss is: 96.86297419119184\n",
      "When time is : 1600, get best_k: -14.51228290571928 best_b: 115.67465615517784, and the loss is: 96.85016678168557\n",
      "When time is : 1650, get best_k: -14.51228290571928 best_b: 115.67465615517784, and the loss is: 96.83736289959639\n",
      "When time is : 1700, get best_k: -14.51228290571928 best_b: 115.67465615517784, and the loss is: 96.82456229283754\n",
      "When time is : 1750, get best_k: -14.51228290571928 best_b: 115.67465615517784, and the loss is: 96.81176485029147\n",
      "When time is : 1800, get best_k: -14.51228290571928 best_b: 115.67465615517784, and the loss is: 96.79897052274622\n",
      "When time is : 1850, get best_k: -14.51228290571928 best_b: 115.67465615517784, and the loss is: 96.78617928817536\n",
      "When time is : 1900, get best_k: -14.51228290571928 best_b: 115.67465615517784, and the loss is: 96.77339113649201\n",
      "When time is : 1950, get best_k: -14.51228290571928 best_b: 115.67465615517784, and the loss is: 96.76060606285104\n"
     ]
    }
   ],
   "source": [
    "trying_times = 2000\n",
    "\n",
    "X, y = data['data'], data['target']\n",
    "\n",
    "min_loss = float('inf') \n",
    "\n",
    "current_k = random.random() * 200 - 100\n",
    "current_b = random.random() * 200 - 100\n",
    "\n",
    "learning_rate = 1e-04\n",
    "\n",
    "\n",
    "update_time = 0\n",
    "\n",
    "for i in range(trying_times):\n",
    "    \n",
    "    price_by_k_and_b = [price(r, current_k, current_b) for r in X_rm]\n",
    "    \n",
    "    current_loss = loss(y, price_by_k_and_b)\n",
    "\n",
    "    if current_loss < min_loss: # performance became better\n",
    "        min_loss = current_loss\n",
    "        \n",
    "        if i % 50 == 0: \n",
    "            print('When time is : {}, get best_k: {} best_b: {}, and the loss is: {}'.format(i, best_k, best_b, min_loss))\n",
    "\n",
    "    k_gradient = partial_k(X_rm, y, price_by_k_and_b)\n",
    "    \n",
    "    b_gradient = partial_b(X_rm, y, price_by_k_and_b)\n",
    "    \n",
    "    current_k = current_k + (-1 * k_gradient) * learning_rate\n",
    "\n",
    "    current_b = current_b + (-1 * b_gradient) * learning_rate"
   ]
  },
  {
   "cell_type": "code",
   "execution_count": 39,
   "metadata": {},
   "outputs": [
    {
     "name": "stdout",
     "output_type": "stream",
     "text": [
      "506 506\n"
     ]
    },
    {
     "data": {
      "text/plain": [
       "<matplotlib.collections.PathCollection at 0x1a2526d0f0>"
      ]
     },
     "execution_count": 39,
     "metadata": {},
     "output_type": "execute_result"
    },
    {
     "data": {
      "image/png": "[encoded data removed]",
      "text/plain": [
       "<Figure size 432x288 with 1 Axes>"
      ]
     },
     "metadata": {
      "needs_background": "light"
     },
     "output_type": "display_data"
    }
   ],
   "source": [
    "X_rm = X[:, 5]\n",
    "k = 11.431551629413757\n",
    "b = -49.52403584539048\n",
    "price_by_random_k_and_b = [price(r, k, b) for r in X_rm]\n",
    "\n",
    "plt.scatter(X[:, 5], y)\n",
    "\n",
    "print(len(X_rm), len(price_by_random_k_and_b))\n",
    "plt.scatter(X_rm, price_by_random_k_and_b)"
   ]
  },
  {
   "cell_type": "markdown",
   "metadata": {},
   "source": [
    "## Assignment01"
   ]
  },
  {
   "cell_type": "markdown",
   "metadata": {},
   "source": [
    "## 1. 复现课程代码\n",
    "## 2. 改变Loss函数 重新书写Loss Function的Python代码"
   ]
  }
 ],
 "metadata": {
  "kernelspec": {
   "display_name": "Python 3",
   "language": "python",
   "name": "python3"
  },
  "language_info": {
   "codemirror_mode": {
    "name": "ipython",
    "version": 3
   },
   "file_extension": ".py",
   "mimetype": "text/x-python",
   "name": "python",
   "nbconvert_exporter": "python",
   "pygments_lexer": "ipython3",
   "version": "3.11.5"
  },
  "toc": {
   "base_numbering": 1,
   "nav_menu": {},
   "number_sections": true,
   "sideBar": true,
   "skip_h1_title": false,
   "title_cell": "Table of Contents",
   "title_sidebar": "Contents",
   "toc_cell": false,
   "toc_position": {},
   "toc_section_display": true,
   "toc_window_display": false
  }
 },
 "nbformat": 4,
 "nbformat_minor": 2
}
